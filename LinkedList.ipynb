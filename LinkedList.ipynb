{
 "cells": [
  {
   "cell_type": "code",
   "execution_count": 1,
   "metadata": {
    "collapsed": true
   },
   "outputs": [],
   "source": [
    "class Node:\n",
    "    def __init__(self,val):\n",
    "        self.val=val\n",
    "        self.next=None"
   ]
  },
  {
   "cell_type": "code",
   "execution_count": 2,
   "metadata": {
    "collapsed": true
   },
   "outputs": [],
   "source": [
    "class SingleLinkedList:\n",
    "    def __init__(self):\n",
    "        self.head=None\n",
    "        \n",
    "    def insert(self,data):\n",
    "        node=Node(data)\n",
    "        \n",
    "        if self.head is None:\n",
    "            self.head=node\n",
    "            return\n",
    "        end=self.head\n",
    "        while end.next is not None:\n",
    "            end=end.next\n",
    "        end.next=node\n",
    "        \n",
    "    def traverse(self):\n",
    "        node=self.head\n",
    "        while node is not None:\n",
    "            print(node.val)\n",
    "            node=node.next\n",
    "    def getLength(self):\n",
    "        node=self.head\n",
    "        i=0\n",
    "        while node is not None:\n",
    "            i+=1\n",
    "            node=node.next\n",
    "        return i\n",
    "    def removeNode(self,data):\n",
    "        head=self.head\n",
    "        prev=head\n",
    "        if head is not None:\n",
    "            if head.val==data:\n",
    "                self.head=head.next\n",
    "                return\n",
    "            while head is not None:\n",
    "                if head.val==data:\n",
    "                    break\n",
    "                prev=head\n",
    "                head=head.next\n",
    "            \n",
    "            prev.next=head.next\n",
    "    \n",
    "            "
   ]
  },
  {
   "cell_type": "code",
   "execution_count": 115,
   "metadata": {
    "collapsed": true
   },
   "outputs": [],
   "source": [
    "list=SingleLinkedList()\n",
    "list.insert(10)\n",
    "list.insert(20)\n",
    "list.insert(30)\n",
    "list.insert(40)\n",
    "list.insert(50)"
   ]
  },
  {
   "cell_type": "code",
   "execution_count": 78,
   "metadata": {
    "collapsed": true
   },
   "outputs": [],
   "source": [
    "list.removeNode(20)"
   ]
  },
  {
   "cell_type": "code",
   "execution_count": 79,
   "metadata": {},
   "outputs": [
    {
     "name": "stdout",
     "output_type": "stream",
     "text": [
      "10\n",
      "30\n",
      "40\n",
      "50\n"
     ]
    }
   ],
   "source": [
    "list.traverse()"
   ]
  },
  {
   "cell_type": "code",
   "execution_count": 42,
   "metadata": {},
   "outputs": [
    {
     "name": "stdout",
     "output_type": "stream",
     "text": [
      "5\n"
     ]
    }
   ],
   "source": [
    "print(list.getLength())"
   ]
  },
  {
   "cell_type": "code",
   "execution_count": 68,
   "metadata": {
    "collapsed": true
   },
   "outputs": [],
   "source": [
    "def getNodeAtGivenIndex(index):\n",
    "    i=1\n",
    "    start=list.head\n",
    "    while start is not None:\n",
    "        if i==index:\n",
    "            print(\"Data is {}\".format(start.val))\n",
    "            return\n",
    "        i+=1\n",
    "        start=start.next\n",
    "    print(\"Node not found\")"
   ]
  },
  {
   "cell_type": "code",
   "execution_count": 44,
   "metadata": {},
   "outputs": [
    {
     "name": "stdout",
     "output_type": "stream",
     "text": [
      "Data is 10\n"
     ]
    }
   ],
   "source": [
    "getNodeAtGivenIndex(1)"
   ]
  },
  {
   "cell_type": "code",
   "execution_count": 65,
   "metadata": {
    "collapsed": true
   },
   "outputs": [],
   "source": [
    "def getMiddleElement(list):\n",
    "    \n",
    "    if list is not None and list.getLength()>0:\n",
    "        \n",
    "        if list.getLength()%2==0:\n",
    "            print(getNodeAtGivenIndex((list.getLength()//2)))\n",
    "        else:\n",
    "            print(getNodeAtGivenIndex((list.getLength()//2)+1))\n",
    "    else:\n",
    "        return -1"
   ]
  },
  {
   "cell_type": "code",
   "execution_count": 61,
   "metadata": {},
   "outputs": [
    {
     "name": "stdout",
     "output_type": "stream",
     "text": [
      "Data is 30\n",
      "None\n"
     ]
    }
   ],
   "source": [
    "getMiddleElement(list)"
   ]
  },
  {
   "cell_type": "code",
   "execution_count": 71,
   "metadata": {
    "collapsed": true
   },
   "outputs": [],
   "source": [
    "def getNodeAtGivenIndexFromLast(index,list):\n",
    "    return getNodeAtGivenIndex(list.getLength()-index+1)\n",
    "    "
   ]
  },
  {
   "cell_type": "code",
   "execution_count": 74,
   "metadata": {},
   "outputs": [
    {
     "name": "stdout",
     "output_type": "stream",
     "text": [
      "Data is 40\n"
     ]
    }
   ],
   "source": [
    "getNodeAtGivenIndexFromLast(3,list)"
   ]
  },
  {
   "cell_type": "code",
   "execution_count": 80,
   "metadata": {
    "collapsed": true
   },
   "outputs": [],
   "source": [
    "def deleteEveryKNode(k):\n",
    "    start=list.head\n",
    "    prev=start\n",
    "    i=0\n",
    "    if k==1:\n",
    "        list.head=None\n",
    "        return\n",
    "    while start is not None:\n",
    "        i+=1\n",
    "        if i==k:\n",
    "            prev.next=start.next\n",
    "            start=start.next\n",
    "            i=0\n",
    "        else:\n",
    "            prev=start\n",
    "            start=start.next\n",
    "            "
   ]
  },
  {
   "cell_type": "code",
   "execution_count": 92,
   "metadata": {
    "collapsed": true
   },
   "outputs": [],
   "source": [
    "def deleteEveryNnodeAfterMnodes(m,n):\n",
    "    start=list.head\n",
    "    while start:\n",
    "        #skip m nodes\n",
    "        for i in range(1,m):\n",
    "            if start is None:\n",
    "                return\n",
    "            start=start.next\n",
    "        if start is None:\n",
    "            return\n",
    "        \n",
    "        #delete n nodes\n",
    "        temp=start.next\n",
    "        for j in range(1,n+1):\n",
    "            if temp is None:\n",
    "                break\n",
    "            temp=temp.next\n",
    "        start.next=temp\n",
    "        start=temp\n",
    "        \n",
    "    "
   ]
  },
  {
   "cell_type": "code",
   "execution_count": 109,
   "metadata": {
    "collapsed": true
   },
   "outputs": [],
   "source": [
    "list=SingleLinkedList()\n",
    "list.insert(10)\n",
    "list.insert(20)\n",
    "list.insert(30)\n",
    "list.insert(40)\n",
    "list.insert(50)"
   ]
  },
  {
   "cell_type": "code",
   "execution_count": 105,
   "metadata": {
    "collapsed": true
   },
   "outputs": [],
   "source": [
    "def rearrangeList():\n",
    "    head=list.head\n",
    "    odd=head\n",
    "    even=head.next\n",
    "    evenStart=even\n",
    "    \n",
    "    while(1):\n",
    "        #if no more even nodes\n",
    "        if odd.next is None:\n",
    "            even.next=None\n",
    "            odd.next=evenStart\n",
    "            break\n",
    "            \n",
    "        #connecting odd nodes\n",
    "        odd.next=even.next\n",
    "        odd=even.next\n",
    "\n",
    "        #connecting even nodes\n",
    "        even.next=odd.next\n",
    "        even=odd.next\n",
    "    "
   ]
  },
  {
   "cell_type": "code",
   "execution_count": 111,
   "metadata": {},
   "outputs": [
    {
     "name": "stdout",
     "output_type": "stream",
     "text": [
      "10\n",
      "20\n",
      "30\n",
      "40\n",
      "50\n"
     ]
    }
   ],
   "source": [
    "list.traverse()"
   ]
  },
  {
   "cell_type": "code",
   "execution_count": 112,
   "metadata": {
    "collapsed": true
   },
   "outputs": [],
   "source": [
    "def sortInsert(data):\n",
    "    \n",
    "    if list.head is None:\n",
    "        list.head=Node(data)\n",
    "        return\n",
    "    elif list.head.val>data:\n",
    "        newNode=Node(data)\n",
    "        newNode.next=list.head\n",
    "        list.head=newNode\n",
    "    else:\n",
    "        newNode=Node(data)\n",
    "        current=list.head\n",
    "        \n",
    "        while current.next is not None and current.next.val<data:\n",
    "            current=current.next\n",
    "            \n",
    "        newNode.next=current.next\n",
    "        current.next=newNode\n",
    "        "
   ]
  },
  {
   "cell_type": "code",
   "execution_count": 116,
   "metadata": {
    "collapsed": true
   },
   "outputs": [],
   "source": [
    "def swapPairs(head):\n",
    "    \n",
    "    if head is not None and head.next is not None:\n",
    "        temp=head.val\n",
    "        head.val=head.next.val\n",
    "        head.next.val=temp\n",
    "        swapPairs(head.next.next)\n",
    "    \n",
    "    "
   ]
  },
  {
   "cell_type": "code",
   "execution_count": 117,
   "metadata": {
    "collapsed": true
   },
   "outputs": [],
   "source": [
    "swapPairs(list.head)"
   ]
  },
  {
   "cell_type": "code",
   "execution_count": 156,
   "metadata": {
    "collapsed": true
   },
   "outputs": [],
   "source": [
    "list=SingleLinkedList()\n",
    "list.insert(10)\n",
    "list.insert(20)\n",
    "list.insert(30)\n",
    "list.insert(40)\n",
    "list.insert(50)"
   ]
  },
  {
   "cell_type": "code",
   "execution_count": 120,
   "metadata": {
    "collapsed": true
   },
   "outputs": [],
   "source": [
    "listTemp=[10,20,30,40,50]"
   ]
  },
  {
   "cell_type": "code",
   "execution_count": 121,
   "metadata": {
    "collapsed": true
   },
   "outputs": [],
   "source": [
    "def reverse():\n",
    "    return [ele for ele in reversed(listTemp)]\n",
    "    "
   ]
  },
  {
   "cell_type": "code",
   "execution_count": 150,
   "metadata": {
    "collapsed": true
   },
   "outputs": [],
   "source": [
    "def reverseListWithk(head,k):\n",
    "    current=head\n",
    "    next=None\n",
    "    prev=None\n",
    "    count=0\n",
    "    \n",
    "    while current is not None and count<k:\n",
    "        next=current.next\n",
    "        current.next=prev \n",
    "        prev=current\n",
    "        current=next\n",
    "        count+=1\n",
    "    \n",
    "    if next is not None:\n",
    "        head.next=reverseListWithk(next,k)\n",
    "    \n",
    "    return prev\n",
    "    "
   ]
  },
  {
   "cell_type": "code",
   "execution_count": 154,
   "metadata": {
    "collapsed": true
   },
   "outputs": [],
   "source": [
    "list.head=reverseListWithk(list.head,3)"
   ]
  },
  {
   "cell_type": "code",
   "execution_count": 155,
   "metadata": {},
   "outputs": [
    {
     "name": "stdout",
     "output_type": "stream",
     "text": [
      "30\n",
      "20\n",
      "10\n",
      "50\n",
      "40\n"
     ]
    }
   ],
   "source": [
    "list.traverse()"
   ]
  },
  {
   "cell_type": "code",
   "execution_count": 136,
   "metadata": {
    "collapsed": true
   },
   "outputs": [],
   "source": [
    "list1=SingleLinkedList()\n",
    "list1.insert(1)\n",
    "list1.insert(2)\n",
    "list1.insert(3)\n",
    "list1.insert(4)\n",
    "list1.insert(5)\n",
    "\n",
    "list2=SingleLinkedList()\n",
    "list2.insert(3)\n",
    "list2.insert(4)\n",
    "list2.insert(5)\n"
   ]
  },
  {
   "cell_type": "code",
   "execution_count": null,
   "metadata": {
    "collapsed": true
   },
   "outputs": [],
   "source": []
  },
  {
   "cell_type": "code",
   "execution_count": 137,
   "metadata": {
    "collapsed": true
   },
   "outputs": [],
   "source": [
    "def intersection(d):\n",
    "    node1=list1.head\n",
    "    node2=list2.head\n",
    "    \n",
    "    i=0\n",
    "    while i<d:\n",
    "        if node1 is None:\n",
    "            return -1\n",
    "        node1=node1.next\n",
    "        i+=1\n",
    "    while node1 is not None and node2 is not None:\n",
    "        if node1.val==node2.val:\n",
    "            return node1.val\n",
    "        node1=node1.next\n",
    "        node2=node2.next\n",
    "    return -1\n",
    "    "
   ]
  },
  {
   "cell_type": "code",
   "execution_count": 139,
   "metadata": {},
   "outputs": [
    {
     "name": "stdout",
     "output_type": "stream",
     "text": [
      "3\n"
     ]
    }
   ],
   "source": [
    "print(intersection(abs(list1.getLength()-list2.getLength())))"
   ]
  },
  {
   "cell_type": "code",
   "execution_count": 6,
   "metadata": {
    "collapsed": true
   },
   "outputs": [],
   "source": [
    "list=SingleLinkedList()\n",
    "list.insert(10)\n",
    "list.insert(20)\n",
    "list.insert(30)\n",
    "list.insert(20)\n",
    "list.insert(50)"
   ]
  },
  {
   "cell_type": "code",
   "execution_count": 158,
   "metadata": {
    "collapsed": true
   },
   "outputs": [],
   "source": [
    "def removeDuplicates():\n",
    "    node=list.head\n",
    "    if node is None:\n",
    "        return\n",
    "    while node.next is not None:\n",
    "        if node.val==node.next.val:\n",
    "            node.next=node.next.next\n",
    "        else:\n",
    "            node=node.next"
   ]
  },
  {
   "cell_type": "code",
   "execution_count": 159,
   "metadata": {
    "collapsed": true
   },
   "outputs": [],
   "source": [
    "removeDuplicates()"
   ]
  },
  {
   "cell_type": "code",
   "execution_count": 9,
   "metadata": {
    "collapsed": true
   },
   "outputs": [],
   "source": [
    "def removeDuplicatesFromUnsorted():\n",
    "    node=list.head\n",
    "    dict={}\n",
    "    prev=None\n",
    "    while node is not None:\n",
    "        value=node.val\n",
    "        if value in dict.keys():\n",
    "            prev.next=node.next\n",
    "        else:\n",
    "            dict[value]=0\n",
    "            prev=node\n",
    "        node=node.next\n",
    "    "
   ]
  },
  {
   "cell_type": "code",
   "execution_count": 11,
   "metadata": {
    "collapsed": true
   },
   "outputs": [],
   "source": [
    "removeDuplicatesFromUnsorted()"
   ]
  },
  {
   "cell_type": "code",
   "execution_count": 13,
   "metadata": {
    "collapsed": true
   },
   "outputs": [],
   "source": [
    "list=SingleLinkedList()\n",
    "list.insert(0)\n",
    "list.insert(1)\n",
    "list.insert(0)\n",
    "list.insert(2)\n",
    "list.insert(1)"
   ]
  },
  {
   "cell_type": "code",
   "execution_count": 16,
   "metadata": {
    "collapsed": true
   },
   "outputs": [],
   "source": [
    "def sortList():\n",
    "    count=[0,0,0]\n",
    "    node=list.head\n",
    "    while node is not None:\n",
    "        count[node.val]+=1\n",
    "        node=node.next\n",
    "        \n",
    "    i=0\n",
    "    node=list.head\n",
    "    while node is not None:\n",
    "        if count[i]==0:\n",
    "            i+=1\n",
    "        else:\n",
    "            node.val=i\n",
    "            count[i]-=1\n",
    "            node=node.next"
   ]
  },
  {
   "cell_type": "code",
   "execution_count": 17,
   "metadata": {
    "collapsed": true
   },
   "outputs": [],
   "source": [
    "sortList()"
   ]
  },
  {
   "cell_type": "code",
   "execution_count": 19,
   "metadata": {
    "collapsed": true
   },
   "outputs": [],
   "source": [
    "def checkCircular():\n",
    "    if list.head is None:\n",
    "        return True\n",
    "    \n",
    "    node=list.head.next\n",
    "    while node is not None and node!=list.head:\n",
    "        node=node.next\n",
    "    \n",
    "    return (node==list.head)"
   ]
  },
  {
   "cell_type": "code",
   "execution_count": 31,
   "metadata": {
    "collapsed": true
   },
   "outputs": [],
   "source": [
    "list=SingleLinkedList()\n",
    "list.insert(1)\n",
    "list.insert(2)\n",
    "list.insert(3)\n",
    "list.insert(4)\n",
    "list.insert(5)\n",
    "list.head.next.next.next=list.head.next.next"
   ]
  },
  {
   "cell_type": "code",
   "execution_count": 24,
   "metadata": {},
   "outputs": [
    {
     "data": {
      "text/plain": [
       "False"
      ]
     },
     "execution_count": 24,
     "metadata": {},
     "output_type": "execute_result"
    }
   ],
   "source": [
    "checkCircular()"
   ]
  },
  {
   "cell_type": "code",
   "execution_count": 4,
   "metadata": {
    "collapsed": true
   },
   "outputs": [],
   "source": [
    "def detectLoop():\n",
    "    slow=fast=list.head\n",
    "    while slow and fast and fast.next:\n",
    "        slow=slow.next\n",
    "        fast=fast.next.next\n",
    "        if slow==fast:\n",
    "            return True\n",
    "    return False"
   ]
  },
  {
   "cell_type": "code",
   "execution_count": 29,
   "metadata": {},
   "outputs": [
    {
     "data": {
      "text/plain": [
       "False"
      ]
     },
     "execution_count": 29,
     "metadata": {},
     "output_type": "execute_result"
    }
   ],
   "source": [
    "detectLoop()"
   ]
  },
  {
   "cell_type": "code",
   "execution_count": 30,
   "metadata": {
    "collapsed": true
   },
   "outputs": [],
   "source": [
    "def getLengthofLoop():\n",
    "    slow=fast=list.head\n",
    "    while slow and fast and fast.next:\n",
    "        slow=slow.next\n",
    "        fast=fast.next.next\n",
    "        if slow==fast:\n",
    "            i=1\n",
    "            temp=slow\n",
    "            while temp.next!=slow:\n",
    "                i+=1\n",
    "                temp=temp.next\n",
    "            return i+1"
   ]
  },
  {
   "cell_type": "code",
   "execution_count": 32,
   "metadata": {},
   "outputs": [
    {
     "data": {
      "text/plain": [
       "2"
      ]
     },
     "execution_count": 32,
     "metadata": {},
     "output_type": "execute_result"
    }
   ],
   "source": [
    "getLengthofLoop()"
   ]
  },
  {
   "cell_type": "code",
   "execution_count": 3,
   "metadata": {
    "collapsed": true
   },
   "outputs": [],
   "source": [
    "list=SingleLinkedList()\n",
    "list.insert(1)\n",
    "list.insert(2)\n",
    "list.insert(3)\n",
    "list.insert(4)\n",
    "list.insert(5)\n",
    "list.head.next.next.next=list.head.next.next"
   ]
  },
  {
   "cell_type": "code",
   "execution_count": 9,
   "metadata": {
    "collapsed": true
   },
   "outputs": [],
   "source": [
    "def removeLoop(node):\n",
    "    ptr1=node\n",
    "    ptr2=node\n",
    "    \n",
    "    k=1\n",
    "    while ptr1.next!=ptr2:\n",
    "        ptr1=ptr1.next\n",
    "        k+=1\n",
    "    \n",
    "    ptr1=list.head\n",
    "    ptr2=list.head\n",
    "    \n",
    "    for i in range(k):\n",
    "        ptr2=ptr2.next\n",
    "        \n",
    "    while ptr2!=ptr1:\n",
    "        ptr1=ptr1.next\n",
    "        ptr2=ptr2.next\n",
    "    \n",
    "    ptr2=ptr2.next\n",
    "    while ptr2.next!=ptr1:\n",
    "        ptr2=ptr2.next\n",
    "    \n",
    "    ptr2.next=None\n",
    "        \n",
    "        \n",
    "    "
   ]
  },
  {
   "cell_type": "code",
   "execution_count": null,
   "metadata": {
    "collapsed": true
   },
   "outputs": [],
   "source": []
  },
  {
   "cell_type": "code",
   "execution_count": 10,
   "metadata": {},
   "outputs": [],
   "source": [
    "def detectLoopRemoveLoop():\n",
    "    slow=fast=list.head\n",
    "    while slow and fast and fast.next:\n",
    "        slow=slow.next\n",
    "        fast=fast.next.next\n",
    "        if slow==fast:\n",
    "            removeLoop(slow)"
   ]
  },
  {
   "cell_type": "code",
   "execution_count": 11,
   "metadata": {},
   "outputs": [],
   "source": [
    "detectLoopRemoveLoop()"
   ]
  },
  {
   "cell_type": "code",
   "execution_count": 12,
   "metadata": {},
   "outputs": [
    {
     "data": {
      "text/plain": [
       "False"
      ]
     },
     "execution_count": 12,
     "metadata": {},
     "output_type": "execute_result"
    }
   ],
   "source": [
    "detectLoop()"
   ]
  },
  {
   "cell_type": "code",
   "execution_count": 18,
   "metadata": {},
   "outputs": [],
   "source": [
    "def addTwoLists(first,second):\n",
    "    carry=0\n",
    "    prev=None\n",
    "    temp=None\n",
    "    result=SingleLinkedList()\n",
    "    while first is not None or second is not None:\n",
    "        fdata=0 if first is None else first.val\n",
    "        sdata=0 if second is None else second.val\n",
    "        \n",
    "        sum=carry+(fdata+sdata)\n",
    "        \n",
    "        carry=1 if sum>=10 else 0\n",
    "        sum=sum if sum<10 else sum%10\n",
    "        \n",
    "        temp=Node(sum)\n",
    "        \n",
    "        if result.head is None:\n",
    "            result.head=temp\n",
    "        else:\n",
    "            prev.next=temp\n",
    "            \n",
    "        prev=temp\n",
    "        \n",
    "        if first is not None:\n",
    "            first=first.next\n",
    "        if second is not None:\n",
    "            second=second.next\n",
    "            \n",
    "    return result\n",
    "            \n",
    "        \n",
    "        \n",
    "        \n",
    "        \n",
    "        \n",
    "        "
   ]
  },
  {
   "cell_type": "code",
   "execution_count": 21,
   "metadata": {},
   "outputs": [
    {
     "name": "stdout",
     "output_type": "stream",
     "text": [
      "0\n",
      "9\n",
      "3\n"
     ]
    }
   ],
   "source": [
    "list1=SingleLinkedList()\n",
    "list1.insert(5)\n",
    "list1.insert(4)\n",
    "\n",
    "list2=SingleLinkedList()\n",
    "list2.insert(1)\n",
    "\n",
    "result=addTwoLists(list1.head,list2.head)\n",
    "result.traverse()"
   ]
  },
  {
   "cell_type": "code",
   "execution_count": null,
   "metadata": {
    "collapsed": true
   },
   "outputs": [],
   "source": []
  }
 ],
 "metadata": {
  "kernelspec": {
   "display_name": "Python 3",
   "language": "python",
   "name": "python3"
  },
  "language_info": {
   "codemirror_mode": {
    "name": "ipython",
    "version": 3
   },
   "file_extension": ".py",
   "mimetype": "text/x-python",
   "name": "python",
   "nbconvert_exporter": "python",
   "pygments_lexer": "ipython3",
   "version": "3.6.1"
  }
 },
 "nbformat": 4,
 "nbformat_minor": 2
}
